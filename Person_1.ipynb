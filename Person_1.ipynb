{
  "cells": [
    {
      "cell_type": "code",
      "execution_count": null,
      "metadata": {
        "colab": {
          "base_uri": "https://localhost:8080/"
        },
        "id": "DG-81sgaLc1l",
        "outputId": "dcefee2b-a583-4d72-b3b0-0e5bef3f36b8"
      },
      "outputs": [
        {
          "name": "stdout",
          "output_type": "stream",
          "text": [
            "/content/drive/MyDrive/Colab Notebooks/Attendance_System/Person_1\n",
            " \u001b[0m\u001b[01;34mDataset\u001b[0m/               'Person 1.gdoc'   Person_2.ipynb\n",
            " person1_best_model.h5   Person_1.ipynb   \u001b[01;34msaved_model\u001b[0m/\n"
          ]
        }
      ],
      "source": [
        "# %ls\n",
        "%cd drive/MyDrive/Colab Notebooks/Attendance_System/Person_1\n",
        "%ls"
      ]
    },
    {
      "cell_type": "code",
      "execution_count": null,
      "metadata": {
        "colab": {
          "base_uri": "https://localhost:8080/"
        },
        "id": "_B1JkqznM6NE",
        "outputId": "64bdc472-acf2-456a-8183-c1875e09e746"
      },
      "outputs": [
        {
          "name": "stdout",
          "output_type": "stream",
          "text": [
            "Files renamed successfully!\n"
          ]
        }
      ],
      "source": [
        "# # Rename Folder name and put serial number\n",
        "# import os\n",
        "\n",
        "# # Specify the folder path containing the files\n",
        "# folder_path = 'Dataset/'\n",
        "\n",
        "\n",
        "# nameList = [\"Emily\", \"Benjamin\", \"Sophia\", \"Alexander\", \"Olivia\", \"William\", \"Ava\", \"James\", \"Mia\", \"Ethan\"]\n",
        "\n",
        "# # Get a list of all files in the folder\n",
        "# files = os.listdir(folder_path)\n",
        "\n",
        "# # Sort the files alphabetically\n",
        "# files.sort()\n",
        "\n",
        "# # Rename the files with sequential numbers\n",
        "# for i, file_name in enumerate(files):\n",
        "#     # Generate the new file name\n",
        "#     new_file_name = nameList[i]\n",
        "\n",
        "#     # Generate the current and new file paths\n",
        "#     current_path = os.path.join(folder_path, file_name)\n",
        "#     new_path = os.path.join(folder_path, new_file_name)\n",
        "\n",
        "#     # Rename the file\n",
        "#     os.rename(current_path, new_path)\n",
        "\n",
        "# print(\"Files renamed successfully!\")\n"
      ]
    },
    {
      "cell_type": "code",
      "execution_count": null,
      "metadata": {
        "colab": {
          "base_uri": "https://localhost:8080/"
        },
        "id": "XM56ttjsRkma",
        "outputId": "966901ae-42d9-46ed-f6ac-2eca9198f6c3"
      },
      "outputs": [
        {
          "name": "stdout",
          "output_type": "stream",
          "text": [
            "Data split and saved successfully!\n"
          ]
        }
      ],
      "source": [
        "from sklearn.model_selection import train_test_split\n",
        "import os\n",
        "import shutil\n",
        "from tqdm import tqdm\n",
        "\n",
        "# Define the path to your dataset directory containing 10 folders\n",
        "dataset_dir = 'Dataset/Input'\n",
        "\n",
        "# Define the path for the output directory\n",
        "output_dir = 'Dataset/Output'\n",
        "\n",
        "# Define the ratio for train, validation, and test sets\n",
        "train_ratio = 0.7\n",
        "val_ratio = 0.2\n",
        "test_ratio = 0.1\n",
        "\n",
        "# Create directories for train, validation, and test sets\n",
        "train_dir = os.path.join(output_dir, 'train')\n",
        "val_dir = os.path.join(output_dir, 'validation')\n",
        "test_dir = os.path.join(output_dir, 'test')\n",
        "\n",
        "os.makedirs(train_dir, exist_ok=True)\n",
        "os.makedirs(val_dir, exist_ok=True)\n",
        "os.makedirs(test_dir, exist_ok=True)\n",
        "\n",
        "# Iterate over the folders in the dataset directory\n",
        "for folder_name in os.listdir(dataset_dir):\n",
        "    folder_path = os.path.join(dataset_dir, folder_name)\n",
        "\n",
        "    # Split the data in each folder into train and temp sets\n",
        "    folder_train_data, folder_temp_data = train_test_split(os.listdir(folder_path), test_size=(1 - train_ratio))\n",
        "\n",
        "    # Split the temp data into validation and test sets\n",
        "    folder_val_data, folder_test_data = train_test_split(folder_temp_data, test_size=test_ratio / (test_ratio + val_ratio))\n",
        "\n",
        "    # Create subdirectories within train, validation, and test directories based on folder names\n",
        "    train_subdir = os.path.join(train_dir, folder_name)\n",
        "    val_subdir = os.path.join(val_dir, folder_name)\n",
        "    test_subdir = os.path.join(test_dir, folder_name)\n",
        "\n",
        "    os.makedirs(train_subdir, exist_ok=True)\n",
        "    os.makedirs(val_subdir, exist_ok=True)\n",
        "    os.makedirs(test_subdir, exist_ok=True)\n",
        "\n",
        "    # Move images to respective directories\n",
        "    for image_file in folder_train_data:\n",
        "        src_path = os.path.join(folder_path, image_file)\n",
        "        dest_path = os.path.join(train_subdir, image_file)\n",
        "        shutil.copy(src_path, dest_path)\n",
        "\n",
        "    for image_file in folder_val_data:\n",
        "        src_path = os.path.join(folder_path, image_file)\n",
        "        dest_path = os.path.join(val_subdir, image_file)\n",
        "        shutil.copy(src_path, dest_path)\n",
        "\n",
        "    for image_file in folder_test_data:\n",
        "        src_path = os.path.join(folder_path, image_file)\n",
        "        dest_path = os.path.join(test_subdir, image_file)\n",
        "        shutil.copy(src_path, dest_path)\n",
        "\n",
        "print(\"Data split and saved successfully!\")\n"
      ]
    },
    {
      "cell_type": "code",
      "execution_count": null,
      "metadata": {
        "colab": {
          "base_uri": "https://localhost:8080/"
        },
        "id": "YsWre6Fkr1n0",
        "outputId": "e7a905b2-7b6c-4524-dc31-19a0d0fcc4cd"
      },
      "outputs": [
        {
          "name": "stdout",
          "output_type": "stream",
          "text": [
            " \u001b[0m\u001b[01;34mDataset\u001b[0m/  'Person 1.gdoc'   Person_1.ipynb\n"
          ]
        }
      ],
      "source": [
        "%ls"
      ]
    },
    {
      "cell_type": "code",
      "execution_count": null,
      "metadata": {
        "id": "Bg3hVr0xMZe-"
      },
      "outputs": [],
      "source": [
        "import os\n",
        "import random\n",
        "import numpy as np\n",
        "import shutil\n",
        "import matplotlib.pyplot as plt\n",
        "import tensorflow as tf\n",
        "from sklearn.metrics import confusion_matrix, precision_score, recall_score\n",
        "from tensorflow.keras.preprocessing.image import ImageDataGenerator\n",
        "from tensorflow.keras.models import Sequential\n",
        "from tensorflow.keras.layers import Conv2D, MaxPooling2D, Flatten, Dense\n",
        "from tensorflow.keras.callbacks import ModelCheckpoint\n"
      ]
    },
    {
      "cell_type": "code",
      "execution_count": null,
      "metadata": {
        "colab": {
          "base_uri": "https://localhost:8080/"
        },
        "id": "3Hmoox1DYWiK",
        "outputId": "231e42ab-36ea-4957-dc88-645df276ad19"
      },
      "outputs": [
        {
          "name": "stdout",
          "output_type": "stream",
          "text": [
            "Number of training images: 140\n",
            "Number of validation images: 30\n",
            "Number of test images: 30\n",
            "Number of training images: ['Dataset/Input/Mia/augmented_9.jpg', 'Dataset/Input/Olivia/augmented_18.jpg', 'Dataset/Input/Benjamin/augmented_11.jpg', 'Dataset/Input/Emily/augmented_13.jpg', 'Dataset/Input/Benjamin/augmented_15.jpg', 'Dataset/Input/William/augmented_19.jpg', 'Dataset/Input/Sophia/augmented_2.jpg', 'Dataset/Input/Ethan/augmented_9.jpg', 'Dataset/Input/Olivia/augmented_8.jpg', 'Dataset/Input/Ava/augmented_16.jpg', 'Dataset/Input/Sophia/augmented_11.jpg', 'Dataset/Input/Ava/augmented_8.jpg', 'Dataset/Input/Mia/augmented_5.jpg', 'Dataset/Input/Sophia/augmented_1.jpg', 'Dataset/Input/William/augmented_18.jpg', 'Dataset/Input/William/augmented_13.jpg', 'Dataset/Input/Benjamin/augmented_6.jpg', 'Dataset/Input/Ava/augmented_19.jpg', 'Dataset/Input/William/augmented_0.jpg', 'Dataset/Input/William/augmented_11.jpg', 'Dataset/Input/Emily/augmented_7.jpg', 'Dataset/Input/Alexander/augmented_16.jpg', 'Dataset/Input/Sophia/augmented_6.jpg', 'Dataset/Input/Ethan/augmented_2.jpg', 'Dataset/Input/Ethan/augmented_13.jpg', 'Dataset/Input/Olivia/augmented_5.jpg', 'Dataset/Input/Mia/augmented_1.jpg', 'Dataset/Input/Benjamin/augmented_16.jpg', 'Dataset/Input/Ethan/augmented_10.jpg', 'Dataset/Input/Alexander/augmented_0.jpg', 'Dataset/Input/Benjamin/augmented_2.jpg', 'Dataset/Input/James/augmented_1.jpg', 'Dataset/Input/William/augmented_1.jpg', 'Dataset/Input/Benjamin/augmented_13.jpg', 'Dataset/Input/Emily/augmented_11.jpg', 'Dataset/Input/Ethan/augmented_11.jpg', 'Dataset/Input/James/augmented_18.jpg', 'Dataset/Input/Emily/augmented_9.jpg', 'Dataset/Input/Benjamin/augmented_7.jpg', 'Dataset/Input/Ava/augmented_0.jpg', 'Dataset/Input/Emily/augmented_1.jpg', 'Dataset/Input/Benjamin/augmented_12.jpg', 'Dataset/Input/James/augmented_2.jpg', 'Dataset/Input/James/augmented_5.jpg', 'Dataset/Input/William/augmented_9.jpg', 'Dataset/Input/James/augmented_4.jpg', 'Dataset/Input/Emily/augmented_3.jpg', 'Dataset/Input/Alexander/augmented_5.jpg', 'Dataset/Input/William/augmented_12.jpg', 'Dataset/Input/James/augmented_6.jpg', 'Dataset/Input/Mia/augmented_6.jpg', 'Dataset/Input/Emily/augmented_0.jpg', 'Dataset/Input/Ethan/augmented_19.jpg', 'Dataset/Input/James/augmented_13.jpg', 'Dataset/Input/Alexander/augmented_11.jpg', 'Dataset/Input/Ava/augmented_3.jpg', 'Dataset/Input/Alexander/augmented_8.jpg', 'Dataset/Input/Sophia/augmented_3.jpg', 'Dataset/Input/Mia/augmented_4.jpg', 'Dataset/Input/Benjamin/augmented_8.jpg', 'Dataset/Input/Sophia/augmented_0.jpg', 'Dataset/Input/William/augmented_8.jpg', 'Dataset/Input/James/augmented_15.jpg', 'Dataset/Input/James/augmented_16.jpg', 'Dataset/Input/Benjamin/augmented_5.jpg', 'Dataset/Input/Benjamin/augmented_3.jpg', 'Dataset/Input/Ethan/augmented_4.jpg', 'Dataset/Input/James/augmented_8.jpg', 'Dataset/Input/Olivia/augmented_1.jpg', 'Dataset/Input/Benjamin/augmented_19.jpg', 'Dataset/Input/Mia/augmented_8.jpg', 'Dataset/Input/Sophia/augmented_8.jpg', 'Dataset/Input/Olivia/augmented_14.jpg', 'Dataset/Input/James/augmented_14.jpg', 'Dataset/Input/Sophia/augmented_5.jpg', 'Dataset/Input/Ava/augmented_17.jpg', 'Dataset/Input/Emily/augmented_2.jpg', 'Dataset/Input/William/augmented_5.jpg', 'Dataset/Input/Sophia/augmented_12.jpg', 'Dataset/Input/Ava/augmented_13.jpg', 'Dataset/Input/Ethan/augmented_0.jpg', 'Dataset/Input/Mia/augmented_18.jpg', 'Dataset/Input/Ethan/augmented_3.jpg', 'Dataset/Input/Sophia/augmented_9.jpg', 'Dataset/Input/Olivia/augmented_0.jpg', 'Dataset/Input/Benjamin/augmented_14.jpg', 'Dataset/Input/Emily/augmented_6.jpg', 'Dataset/Input/William/augmented_10.jpg', 'Dataset/Input/Olivia/augmented_11.jpg', 'Dataset/Input/Olivia/augmented_2.jpg', 'Dataset/Input/Mia/augmented_16.jpg', 'Dataset/Input/Ethan/augmented_5.jpg', 'Dataset/Input/Olivia/augmented_10.jpg', 'Dataset/Input/Emily/augmented_10.jpg', 'Dataset/Input/Emily/augmented_14.jpg', 'Dataset/Input/Sophia/augmented_19.jpg', 'Dataset/Input/Mia/augmented_11.jpg', 'Dataset/Input/Ava/augmented_11.jpg', 'Dataset/Input/Emily/augmented_16.jpg', 'Dataset/Input/Alexander/augmented_13.jpg', 'Dataset/Input/Mia/augmented_15.jpg', 'Dataset/Input/Ava/augmented_14.jpg', 'Dataset/Input/Mia/augmented_7.jpg', 'Dataset/Input/Ethan/augmented_1.jpg', 'Dataset/Input/Alexander/augmented_3.jpg', 'Dataset/Input/Sophia/augmented_14.jpg', 'Dataset/Input/William/augmented_7.jpg', 'Dataset/Input/Sophia/augmented_10.jpg', 'Dataset/Input/Ethan/augmented_16.jpg', 'Dataset/Input/Sophia/augmented_18.jpg', 'Dataset/Input/Sophia/augmented_7.jpg', 'Dataset/Input/Olivia/augmented_9.jpg', 'Dataset/Input/Benjamin/augmented_1.jpg', 'Dataset/Input/Sophia/augmented_17.jpg', 'Dataset/Input/Mia/augmented_0.jpg', 'Dataset/Input/Ethan/augmented_12.jpg', 'Dataset/Input/Ava/augmented_9.jpg', 'Dataset/Input/Benjamin/augmented_17.jpg', 'Dataset/Input/James/augmented_17.jpg', 'Dataset/Input/Ethan/augmented_14.jpg', 'Dataset/Input/Emily/augmented_5.jpg', 'Dataset/Input/Sophia/augmented_13.jpg', 'Dataset/Input/James/augmented_9.jpg', 'Dataset/Input/Ava/augmented_10.jpg', 'Dataset/Input/James/augmented_11.jpg', 'Dataset/Input/William/augmented_3.jpg', 'Dataset/Input/Olivia/augmented_19.jpg', 'Dataset/Input/William/augmented_16.jpg', 'Dataset/Input/Olivia/augmented_7.jpg', 'Dataset/Input/Alexander/augmented_14.jpg', 'Dataset/Input/Ava/augmented_1.jpg', 'Dataset/Input/Ethan/augmented_18.jpg', 'Dataset/Input/Benjamin/augmented_0.jpg', 'Dataset/Input/Ethan/augmented_8.jpg', 'Dataset/Input/Alexander/augmented_10.jpg', 'Dataset/Input/William/augmented_6.jpg', 'Dataset/Input/Emily/augmented_15.jpg', 'Dataset/Input/Olivia/augmented_13.jpg', 'Dataset/Input/Mia/augmented_19.jpg', 'Dataset/Input/William/augmented_2.jpg']\n"
          ]
        }
      ],
      "source": [
        "import os\n",
        "import random\n",
        "import numpy as np\n",
        "from sklearn.model_selection import train_test_split\n",
        "\n",
        "# Set seed for reproducibility\n",
        "np.random.seed(42)\n",
        "\n",
        "# Define input directory\n",
        "input_directory = \"Dataset/Input/\"\n",
        "\n",
        "# Load the image paths\n",
        "image_paths = []\n",
        "for person_folder in os.listdir(input_directory):\n",
        "    person_folder_path = os.path.join(input_directory, person_folder)\n",
        "    if os.path.isdir(person_folder_path):\n",
        "        person_images = [os.path.join(person_folder_path, image) for image in os.listdir(person_folder_path)]\n",
        "        image_paths.extend(person_images)\n",
        "\n",
        "# Split the image paths into train, validation, and test sets\n",
        "train_paths, val_paths = train_test_split(image_paths, test_size=0.3, random_state=42)\n",
        "val_paths, test_paths = train_test_split(val_paths, test_size=0.5, random_state=42)\n",
        "\n",
        "# Print the number of images in each set\n",
        "print(\"Number of training images:\", len(train_paths))\n",
        "print(\"Number of validation images:\", len(val_paths))\n",
        "print(\"Number of test images:\", len(test_paths))\n",
        "\n",
        "print(\"Number of training images:\", train_paths)\n",
        "\n"
      ]
    },
    {
      "cell_type": "code",
      "execution_count": null,
      "metadata": {
        "id": "7_caGLGH8JD6"
      },
      "outputs": [],
      "source": [
        "# Define image dimensions and batch size\n",
        "img_width, img_height = 150, 150\n",
        "batch_size = 32\n"
      ]
    },
    {
      "cell_type": "code",
      "execution_count": null,
      "metadata": {
        "id": "1FfUDRlkf1Jt"
      },
      "outputs": [],
      "source": [
        "train_labels = []\n",
        "val_labels = []\n",
        "test_labels = []\n",
        "\n",
        "for path in train_paths:\n",
        "  t_label = path.split('/')[2];\n",
        "  train_labels.append(t_label)\n",
        "\n",
        "for path in val_paths:\n",
        "  v_label = path.split('/')[2];\n",
        "  val_labels.append(v_label)\n",
        "\n",
        "for path in test_paths:\n",
        "  te_label = path.split('/')[2];\n",
        "  test_labels.append(te_label)"
      ]
    },
    {
      "cell_type": "code",
      "execution_count": null,
      "metadata": {
        "colab": {
          "base_uri": "https://localhost:8080/"
        },
        "id": "3tQtT23ydIzl",
        "outputId": "70a68a49-6c3b-4367-e095-872e8c93785a"
      },
      "outputs": [
        {
          "name": "stdout",
          "output_type": "stream",
          "text": [
            "Found 140 validated image filenames belonging to 10 classes.\n",
            "Found 30 validated image filenames belonging to 10 classes.\n",
            "Found 30 validated image filenames belonging to 10 classes.\n"
          ]
        }
      ],
      "source": [
        "import pandas as pd\n",
        "\n",
        "# Create a DataFrame with image paths and their corresponding labels\n",
        "train_df = pd.DataFrame({'path': train_paths, 'label': train_labels})  # Replace train_labels with your actual labels\n",
        "val_df = pd.DataFrame({'path': val_paths, 'label': val_labels})  # Replace val_labels with your actual labels\n",
        "test_df = pd.DataFrame({'path': test_paths, 'label': test_labels})  # Replace val_labels with your actual labels\n",
        "\n",
        "# Data augmentation for the training set\n",
        "train_generator = train_datagen.flow_from_dataframe(train_df, x_col='path', y_col='label',\n",
        "                                                    target_size=(img_width, img_height),\n",
        "                                                    batch_size=batch_size, class_mode='categorical',\n",
        "                                                    subset='training')\n",
        "\n",
        "# Data augmentation for the validation set\n",
        "val_generator = val_datagen.flow_from_dataframe(val_df, x_col='path', y_col='label',\n",
        "                                                target_size=(img_width, img_height),\n",
        "                                                batch_size=batch_size, class_mode='categorical')\n",
        "\n",
        "# Data augmentation for the validation set\n",
        "test_generator = test_datagen.flow_from_dataframe(test_df, x_col='path', y_col='label',\n",
        "                                                target_size=(img_width, img_height),\n",
        "                                                batch_size=batch_size, class_mode='categorical')"
      ]
    },
    {
      "cell_type": "code",
      "execution_count": null,
      "metadata": {
        "colab": {
          "base_uri": "https://localhost:8080/"
        },
        "id": "9a49LGvgb-lx",
        "outputId": "87286914-8324-4e26-f894-34d27f538de4"
      },
      "outputs": [
        {
          "name": "stdout",
          "output_type": "stream",
          "text": [
            "Model: \"sequential_3\"\n",
            "_________________________________________________________________\n",
            " Layer (type)                Output Shape              Param #   \n",
            "=================================================================\n",
            " conv2d_9 (Conv2D)           (None, 148, 148, 32)      896       \n",
            "                                                                 \n",
            " max_pooling2d_9 (MaxPooling  (None, 74, 74, 32)       0         \n",
            " 2D)                                                             \n",
            "                                                                 \n",
            " conv2d_10 (Conv2D)          (None, 72, 72, 64)        18496     \n",
            "                                                                 \n",
            " max_pooling2d_10 (MaxPoolin  (None, 36, 36, 64)       0         \n",
            " g2D)                                                            \n",
            "                                                                 \n",
            " conv2d_11 (Conv2D)          (None, 34, 34, 128)       73856     \n",
            "                                                                 \n",
            " max_pooling2d_11 (MaxPoolin  (None, 17, 17, 128)      0         \n",
            " g2D)                                                            \n",
            "                                                                 \n",
            " flatten_3 (Flatten)         (None, 36992)             0         \n",
            "                                                                 \n",
            " dense_6 (Dense)             (None, 128)               4735104   \n",
            "                                                                 \n",
            " dense_7 (Dense)             (None, 10)                1290      \n",
            "                                                                 \n",
            "=================================================================\n",
            "Total params: 4,829,642\n",
            "Trainable params: 4,829,642\n",
            "Non-trainable params: 0\n",
            "_________________________________________________________________\n"
          ]
        }
      ],
      "source": [
        "# Define the CNN model\n",
        "model = Sequential()\n",
        "model.add(Conv2D(32, (3, 3), activation='relu', input_shape=(img_width, img_height, 3)))\n",
        "model.add(MaxPooling2D((2, 2)))\n",
        "model.add(Conv2D(64, (3, 3), activation='relu'))\n",
        "model.add(MaxPooling2D((2, 2)))\n",
        "model.add(Conv2D(128, (3, 3), activation='relu'))\n",
        "model.add(MaxPooling2D((2, 2)))\n",
        "model.add(Flatten())\n",
        "model.add(Dense(128, activation='relu'))\n",
        "model.add(Dense(len(train_generator.class_indices), activation='softmax'))\n",
        "\n",
        "# Compile the model\n",
        "model.compile(optimizer='adam', loss='categorical_crossentropy', metrics=['accuracy'])\n",
        "model.summary()\n"
      ]
    },
    {
      "cell_type": "code",
      "execution_count": null,
      "metadata": {
        "colab": {
          "base_uri": "https://localhost:8080/"
        },
        "id": "AGK3J6PWCMlJ",
        "outputId": "11f66964-3e79-4993-bfec-621e3234de2c"
      },
      "outputs": [
        {
          "name": "stdout",
          "output_type": "stream",
          "text": [
            "Epoch 1/10\n",
            "5/5 [==============================] - ETA: 0s - loss: 2.4863 - accuracy: 0.0857\n",
            "Epoch 1: val_loss improved from inf to 2.28546, saving model to best_model.h5\n",
            "5/5 [==============================] - 14s 2s/step - loss: 2.4863 - accuracy: 0.0857 - val_loss: 2.2855 - val_accuracy: 0.0750\n",
            "Epoch 2/10\n",
            "5/5 [==============================] - ETA: 0s - loss: 2.2440 - accuracy: 0.1357\n",
            "Epoch 2: val_loss improved from 2.28546 to 2.26886, saving model to best_model.h5\n",
            "5/5 [==============================] - 11s 2s/step - loss: 2.2440 - accuracy: 0.1357 - val_loss: 2.2689 - val_accuracy: 0.1000\n",
            "Epoch 3/10\n",
            "5/5 [==============================] - ETA: 0s - loss: 2.1111 - accuracy: 0.2786\n",
            "Epoch 3: val_loss improved from 2.26886 to 2.08350, saving model to best_model.h5\n",
            "5/5 [==============================] - 12s 2s/step - loss: 2.1111 - accuracy: 0.2786 - val_loss: 2.0835 - val_accuracy: 0.2250\n",
            "Epoch 4/10\n",
            "5/5 [==============================] - ETA: 0s - loss: 1.7838 - accuracy: 0.3857\n",
            "Epoch 4: val_loss improved from 2.08350 to 1.73073, saving model to best_model.h5\n",
            "5/5 [==============================] - 12s 2s/step - loss: 1.7838 - accuracy: 0.3857 - val_loss: 1.7307 - val_accuracy: 0.4000\n",
            "Epoch 5/10\n",
            "5/5 [==============================] - ETA: 0s - loss: 1.2995 - accuracy: 0.5714\n",
            "Epoch 5: val_loss improved from 1.73073 to 1.33351, saving model to best_model.h5\n",
            "5/5 [==============================] - 12s 2s/step - loss: 1.2995 - accuracy: 0.5714 - val_loss: 1.3335 - val_accuracy: 0.5750\n",
            "Epoch 6/10\n",
            "5/5 [==============================] - ETA: 0s - loss: 0.9585 - accuracy: 0.6929\n",
            "Epoch 6: val_loss improved from 1.33351 to 1.13845, saving model to best_model.h5\n",
            "5/5 [==============================] - 10s 2s/step - loss: 0.9585 - accuracy: 0.6929 - val_loss: 1.1385 - val_accuracy: 0.5500\n",
            "Epoch 7/10\n",
            "5/5 [==============================] - ETA: 0s - loss: 0.7932 - accuracy: 0.6929\n",
            "Epoch 7: val_loss improved from 1.13845 to 0.91523, saving model to best_model.h5\n",
            "5/5 [==============================] - 13s 3s/step - loss: 0.7932 - accuracy: 0.6929 - val_loss: 0.9152 - val_accuracy: 0.7000\n",
            "Epoch 8/10\n",
            "5/5 [==============================] - ETA: 0s - loss: 0.5779 - accuracy: 0.8071\n",
            "Epoch 8: val_loss did not improve from 0.91523\n",
            "5/5 [==============================] - 12s 2s/step - loss: 0.5779 - accuracy: 0.8071 - val_loss: 0.9772 - val_accuracy: 0.6250\n",
            "Epoch 9/10\n",
            "5/5 [==============================] - ETA: 0s - loss: 0.7485 - accuracy: 0.7071\n",
            "Epoch 9: val_loss improved from 0.91523 to 0.68272, saving model to best_model.h5\n",
            "5/5 [==============================] - 14s 3s/step - loss: 0.7485 - accuracy: 0.7071 - val_loss: 0.6827 - val_accuracy: 0.8250\n",
            "Epoch 10/10\n",
            "5/5 [==============================] - ETA: 0s - loss: 0.4997 - accuracy: 0.8143\n",
            "Epoch 10: val_loss did not improve from 0.68272\n",
            "5/5 [==============================] - 12s 3s/step - loss: 0.4997 - accuracy: 0.8143 - val_loss: 0.8019 - val_accuracy: 0.7000\n"
          ]
        }
      ],
      "source": [
        "# Define the path to save the best model\n",
        "checkpoint_path = 'saved_model/person1_best_model.h5'\n",
        "\n",
        "# Create a model checkpoint callback\n",
        "checkpoint_callback = ModelCheckpoint(checkpoint_path,\n",
        "                                      monitor='val_loss',\n",
        "                                      save_best_only=True,\n",
        "                                      mode='min',\n",
        "                                      verbose=1)\n",
        "\n",
        "# Train the model with the callback\n",
        "history = model.fit(train_generator,\n",
        "                    steps_per_epoch=len(train_generator),\n",
        "                    epochs=10,\n",
        "                    validation_data=val_generator,\n",
        "                    validation_steps=len(val_generator),\n",
        "                    callbacks=[checkpoint_callback])"
      ]
    },
    {
      "cell_type": "code",
      "execution_count": null,
      "metadata": {
        "colab": {
          "base_uri": "https://localhost:8080/",
          "height": 363
        },
        "id": "WZxJmdaK9JiN",
        "outputId": "3583d0f1-bad4-4d55-9657-d788e0c0a999"
      },
      "outputs": [
        {
          "data": {
            "text/html": [
              "\n",
              "  <div id=\"df-a2945c5a-1a30-4422-8a85-b78fb850c1d5\">\n",
              "    <div class=\"colab-df-container\">\n",
              "      <div>\n",
              "<style scoped>\n",
              "    .dataframe tbody tr th:only-of-type {\n",
              "        vertical-align: middle;\n",
              "    }\n",
              "\n",
              "    .dataframe tbody tr th {\n",
              "        vertical-align: top;\n",
              "    }\n",
              "\n",
              "    .dataframe thead th {\n",
              "        text-align: right;\n",
              "    }\n",
              "</style>\n",
              "<table border=\"1\" class=\"dataframe\">\n",
              "  <thead>\n",
              "    <tr style=\"text-align: right;\">\n",
              "      <th></th>\n",
              "      <th>epochs</th>\n",
              "      <th>loss</th>\n",
              "      <th>accuracy</th>\n",
              "      <th>val_loss</th>\n",
              "      <th>val_accuracy</th>\n",
              "    </tr>\n",
              "  </thead>\n",
              "  <tbody>\n",
              "    <tr>\n",
              "      <th>0</th>\n",
              "      <td>1</td>\n",
              "      <td>2.486253</td>\n",
              "      <td>0.085714</td>\n",
              "      <td>2.285462</td>\n",
              "      <td>0.075</td>\n",
              "    </tr>\n",
              "    <tr>\n",
              "      <th>1</th>\n",
              "      <td>2</td>\n",
              "      <td>2.243969</td>\n",
              "      <td>0.135714</td>\n",
              "      <td>2.268862</td>\n",
              "      <td>0.100</td>\n",
              "    </tr>\n",
              "    <tr>\n",
              "      <th>2</th>\n",
              "      <td>3</td>\n",
              "      <td>2.111149</td>\n",
              "      <td>0.278571</td>\n",
              "      <td>2.083505</td>\n",
              "      <td>0.225</td>\n",
              "    </tr>\n",
              "    <tr>\n",
              "      <th>3</th>\n",
              "      <td>4</td>\n",
              "      <td>1.783834</td>\n",
              "      <td>0.385714</td>\n",
              "      <td>1.730729</td>\n",
              "      <td>0.400</td>\n",
              "    </tr>\n",
              "    <tr>\n",
              "      <th>4</th>\n",
              "      <td>5</td>\n",
              "      <td>1.299499</td>\n",
              "      <td>0.571429</td>\n",
              "      <td>1.333512</td>\n",
              "      <td>0.575</td>\n",
              "    </tr>\n",
              "    <tr>\n",
              "      <th>5</th>\n",
              "      <td>6</td>\n",
              "      <td>0.958483</td>\n",
              "      <td>0.692857</td>\n",
              "      <td>1.138450</td>\n",
              "      <td>0.550</td>\n",
              "    </tr>\n",
              "    <tr>\n",
              "      <th>6</th>\n",
              "      <td>7</td>\n",
              "      <td>0.793210</td>\n",
              "      <td>0.692857</td>\n",
              "      <td>0.915230</td>\n",
              "      <td>0.700</td>\n",
              "    </tr>\n",
              "    <tr>\n",
              "      <th>7</th>\n",
              "      <td>8</td>\n",
              "      <td>0.577907</td>\n",
              "      <td>0.807143</td>\n",
              "      <td>0.977184</td>\n",
              "      <td>0.625</td>\n",
              "    </tr>\n",
              "    <tr>\n",
              "      <th>8</th>\n",
              "      <td>9</td>\n",
              "      <td>0.748534</td>\n",
              "      <td>0.707143</td>\n",
              "      <td>0.682721</td>\n",
              "      <td>0.825</td>\n",
              "    </tr>\n",
              "    <tr>\n",
              "      <th>9</th>\n",
              "      <td>10</td>\n",
              "      <td>0.499652</td>\n",
              "      <td>0.814286</td>\n",
              "      <td>0.801890</td>\n",
              "      <td>0.700</td>\n",
              "    </tr>\n",
              "  </tbody>\n",
              "</table>\n",
              "</div>\n",
              "      <button class=\"colab-df-convert\" onclick=\"convertToInteractive('df-a2945c5a-1a30-4422-8a85-b78fb850c1d5')\"\n",
              "              title=\"Convert this dataframe to an interactive table.\"\n",
              "              style=\"display:none;\">\n",
              "        \n",
              "  <svg xmlns=\"http://www.w3.org/2000/svg\" height=\"24px\"viewBox=\"0 0 24 24\"\n",
              "       width=\"24px\">\n",
              "    <path d=\"M0 0h24v24H0V0z\" fill=\"none\"/>\n",
              "    <path d=\"M18.56 5.44l.94 2.06.94-2.06 2.06-.94-2.06-.94-.94-2.06-.94 2.06-2.06.94zm-11 1L8.5 8.5l.94-2.06 2.06-.94-2.06-.94L8.5 2.5l-.94 2.06-2.06.94zm10 10l.94 2.06.94-2.06 2.06-.94-2.06-.94-.94-2.06-.94 2.06-2.06.94z\"/><path d=\"M17.41 7.96l-1.37-1.37c-.4-.4-.92-.59-1.43-.59-.52 0-1.04.2-1.43.59L10.3 9.45l-7.72 7.72c-.78.78-.78 2.05 0 2.83L4 21.41c.39.39.9.59 1.41.59.51 0 1.02-.2 1.41-.59l7.78-7.78 2.81-2.81c.8-.78.8-2.07 0-2.86zM5.41 20L4 18.59l7.72-7.72 1.47 1.35L5.41 20z\"/>\n",
              "  </svg>\n",
              "      </button>\n",
              "      \n",
              "  <style>\n",
              "    .colab-df-container {\n",
              "      display:flex;\n",
              "      flex-wrap:wrap;\n",
              "      gap: 12px;\n",
              "    }\n",
              "\n",
              "    .colab-df-convert {\n",
              "      background-color: #E8F0FE;\n",
              "      border: none;\n",
              "      border-radius: 50%;\n",
              "      cursor: pointer;\n",
              "      display: none;\n",
              "      fill: #1967D2;\n",
              "      height: 32px;\n",
              "      padding: 0 0 0 0;\n",
              "      width: 32px;\n",
              "    }\n",
              "\n",
              "    .colab-df-convert:hover {\n",
              "      background-color: #E2EBFA;\n",
              "      box-shadow: 0px 1px 2px rgba(60, 64, 67, 0.3), 0px 1px 3px 1px rgba(60, 64, 67, 0.15);\n",
              "      fill: #174EA6;\n",
              "    }\n",
              "\n",
              "    [theme=dark] .colab-df-convert {\n",
              "      background-color: #3B4455;\n",
              "      fill: #D2E3FC;\n",
              "    }\n",
              "\n",
              "    [theme=dark] .colab-df-convert:hover {\n",
              "      background-color: #434B5C;\n",
              "      box-shadow: 0px 1px 3px 1px rgba(0, 0, 0, 0.15);\n",
              "      filter: drop-shadow(0px 1px 2px rgba(0, 0, 0, 0.3));\n",
              "      fill: #FFFFFF;\n",
              "    }\n",
              "  </style>\n",
              "\n",
              "      <script>\n",
              "        const buttonEl =\n",
              "          document.querySelector('#df-a2945c5a-1a30-4422-8a85-b78fb850c1d5 button.colab-df-convert');\n",
              "        buttonEl.style.display =\n",
              "          google.colab.kernel.accessAllowed ? 'block' : 'none';\n",
              "\n",
              "        async function convertToInteractive(key) {\n",
              "          const element = document.querySelector('#df-a2945c5a-1a30-4422-8a85-b78fb850c1d5');\n",
              "          const dataTable =\n",
              "            await google.colab.kernel.invokeFunction('convertToInteractive',\n",
              "                                                     [key], {});\n",
              "          if (!dataTable) return;\n",
              "\n",
              "          const docLinkHtml = 'Like what you see? Visit the ' +\n",
              "            '<a target=\"_blank\" href=https://colab.research.google.com/notebooks/data_table.ipynb>data table notebook</a>'\n",
              "            + ' to learn more about interactive tables.';\n",
              "          element.innerHTML = '';\n",
              "          dataTable['output_type'] = 'display_data';\n",
              "          await google.colab.output.renderOutput(dataTable, element);\n",
              "          const docLink = document.createElement('div');\n",
              "          docLink.innerHTML = docLinkHtml;\n",
              "          element.appendChild(docLink);\n",
              "        }\n",
              "      </script>\n",
              "    </div>\n",
              "  </div>\n",
              "  "
            ],
            "text/plain": [
              "   epochs      loss  accuracy  val_loss  val_accuracy\n",
              "0       1  2.486253  0.085714  2.285462         0.075\n",
              "1       2  2.243969  0.135714  2.268862         0.100\n",
              "2       3  2.111149  0.278571  2.083505         0.225\n",
              "3       4  1.783834  0.385714  1.730729         0.400\n",
              "4       5  1.299499  0.571429  1.333512         0.575\n",
              "5       6  0.958483  0.692857  1.138450         0.550\n",
              "6       7  0.793210  0.692857  0.915230         0.700\n",
              "7       8  0.577907  0.807143  0.977184         0.625\n",
              "8       9  0.748534  0.707143  0.682721         0.825\n",
              "9      10  0.499652  0.814286  0.801890         0.700"
            ]
          },
          "execution_count": 67,
          "metadata": {},
          "output_type": "execute_result"
        }
      ],
      "source": [
        "import pandas as pd\n",
        "\n",
        "df = pd.DataFrame(history.history)\n",
        "\n",
        "df.insert(0,\"epochs\",[1,2,3,4,5,6,7,8,9,10], True)\n",
        "df\n"
      ]
    },
    {
      "cell_type": "code",
      "execution_count": null,
      "metadata": {
        "colab": {
          "base_uri": "https://localhost:8080/",
          "height": 927
        },
        "id": "8koV2Q6K9IVn",
        "outputId": "6a0ee83e-974e-4afc-919c-5bf8c56ccd59"
      },
      "outputs": [
        {
          "data": {
            "image/png": "[encoded data removed]",
            "text/plain": [
              "<Figure size 640x480 with 1 Axes>"
            ]
          },
          "metadata": {},
          "output_type": "display_data"
        },
        {
          "data": {
            "image/png": "[encoded data removed]",
            "text/plain": [
              "<Figure size 640x480 with 1 Axes>"
            ]
          },
          "metadata": {},
          "output_type": "display_data"
        }
      ],
      "source": [
        "# Plot training and validation accuracy\n",
        "plt.plot(history.history['accuracy'])\n",
        "plt.plot(history.history['val_accuracy'])\n",
        "plt.title('Model Accuracy')\n",
        "plt.xlabel('Epoch')\n",
        "plt.ylabel('Accuracy')\n",
        "plt.legend(['Train', 'Validation'], loc='upper left')\n",
        "plt.show()\n",
        "\n",
        "# Plot training and validation loss\n",
        "plt.plot(history.history['loss'])\n",
        "plt.plot(history.history['val_loss'])\n",
        "plt.title('Model Loss')\n",
        "plt.xlabel('Epoch')\n",
        "plt.ylabel('Loss')\n",
        "plt.legend(['Train', 'Validation'], loc='upper right')\n",
        "plt.show()\n",
        "\n"
      ]
    },
    {
      "cell_type": "code",
      "execution_count": null,
      "metadata": {
        "id": "MJtfm1A5j223"
      },
      "outputs": [],
      "source": []
    },
    {
      "cell_type": "code",
      "execution_count": null,
      "metadata": {
        "colab": {
          "base_uri": "https://localhost:8080/"
        },
        "id": "Dley-Ncy9yOo",
        "outputId": "9286cf68-0925-41a5-8b8d-f3c6f9f580ff"
      },
      "outputs": [
        {
          "name": "stdout",
          "output_type": "stream",
          "text": [
            "['Olivia', 'William', 'Ava', 'Ethan', 'Alexander', 'William', 'Alexander', 'James', 'Mia', 'Olivia', 'Benjamin', 'William', 'Emily', 'James', 'Emily', 'James', 'Mia', 'Alexander', 'Alexander', 'Ava', 'Benjamin', 'Alexander', 'James', 'Mia', 'Alexander', 'James', 'Mia', 'Alexander', 'Sophia', 'Emily']\n"
          ]
        }
      ],
      "source": [
        "from tensorflow.keras.models import load_model\n",
        "from tensorflow.keras.preprocessing.image import ImageDataGenerator\n",
        "import pandas as pd\n",
        "\n",
        "# Load the saved best model\n",
        "saved_model = load_model('person1_best_model.h5')\n",
        "\n",
        "# Define test data augmentation\n",
        "test_datagen = ImageDataGenerator(rescale=1.0/255.0)\n",
        "\n",
        "# Get the true labels for the test set\n",
        "print(test_labels)\n",
        "\n",
        "test_df = pd.DataFrame({'path': test_paths, 'label': test_labels})  # Replace val_labels with your actual labels\n"
      ]
    },
    {
      "cell_type": "code",
      "execution_count": null,
      "metadata": {
        "colab": {
          "base_uri": "https://localhost:8080/"
        },
        "id": "glfDR4xWmr0t",
        "outputId": "6cb2b7df-7c52-421a-f3ec-fafb687b1784"
      },
      "outputs": [
        {
          "name": "stdout",
          "output_type": "stream",
          "text": [
            "Found 30 validated image filenames belonging to 10 classes.\n",
            "[7, 9, 1, 4, 0, 9, 0, 5, 6, 7, 2, 9, 3, 5, 3, 5, 6, 0, 0, 1, 2, 0, 5, 6, 0, 5, 6, 0, 8, 3]\n"
          ]
        }
      ],
      "source": [
        "\n",
        "# Data augmentation for the validation set\n",
        "test_generator = test_datagen.flow_from_dataframe(test_df, x_col='path', y_col='label',\n",
        "                                                 target_size=(img_width, img_height),\n",
        "                                                 batch_size=batch_size, class_mode='categorical')\n",
        "\n",
        "print(test_generator.classes)"
      ]
    },
    {
      "cell_type": "code",
      "execution_count": null,
      "metadata": {
        "colab": {
          "base_uri": "https://localhost:8080/"
        },
        "id": "RwQsmWogm1Mp",
        "outputId": "39b0093e-07e6-41da-a932-7b51df33c6d9"
      },
      "outputs": [
        {
          "name": "stdout",
          "output_type": "stream",
          "text": [
            "1/1 [==============================] - 1s 1s/step\n",
            "[[9.94122088e-01 3.84205603e-04 8.69885203e-04 1.75055509e-04\n",
            "  4.01165657e-04 2.79343453e-07 3.16482241e-04 3.72200040e-03\n",
            "  1.96917244e-06 6.73970681e-06]\n",
            " [5.89162996e-03 5.54107547e-01 5.99380815e-04 1.21822245e-01\n",
            "  1.32328132e-03 3.74931442e-05 2.98495113e-04 1.02814389e-02\n",
            "  3.30439443e-03 3.02334160e-01]\n",
            " [8.37817439e-04 7.49539686e-05 2.35157227e-03 8.49846052e-04\n",
            "  8.24927092e-01 1.16004020e-01 3.26771475e-02 2.15017740e-02\n",
            "  4.00450081e-04 3.75205767e-04]\n",
            " [4.97910078e-04 8.06943297e-01 1.02379665e-04 2.31180396e-02\n",
            "  1.06566491e-04 1.54262689e-05 1.77164809e-04 1.09564303e-03\n",
            "  8.81461799e-03 1.59128949e-01]\n",
            " [9.73846376e-01 4.45216458e-04 2.15293746e-02 8.53186648e-04\n",
            "  4.30691172e-04 8.73090755e-07 1.78862043e-04 2.67196260e-03\n",
            "  1.11629824e-05 3.22581254e-05]\n",
            " [7.54210532e-01 8.31671432e-03 1.94571152e-01 2.53375643e-03\n",
            "  5.30550629e-03 5.87711111e-06 4.52802144e-03 3.04150973e-02\n",
            "  5.13363921e-05 6.20263454e-05]\n",
            " [3.78575351e-04 8.43361922e-05 1.24628458e-03 5.39696543e-04\n",
            "  5.99898815e-01 8.35918114e-02 1.52361477e-02 2.97656626e-01\n",
            "  6.51910610e-04 7.15754344e-04]\n",
            " [2.08697881e-09 7.03097103e-05 1.17799618e-06 3.71635520e-06\n",
            "  5.87633515e-08 1.03531059e-10 6.18813001e-10 1.85335850e-07\n",
            "  3.49618887e-07 9.99924123e-01]\n",
            " [4.57685487e-03 1.12375058e-03 3.32801370e-03 7.35089276e-03\n",
            "  6.01531923e-01 1.09283522e-01 1.75185531e-01 9.58967805e-02\n",
            "  6.87023043e-04 1.03566074e-03]\n",
            " [5.98567945e-04 1.05277912e-04 6.19580736e-04 1.61668775e-03\n",
            "  1.95976928e-01 6.40836060e-01 4.42553237e-02 1.14752665e-01\n",
            "  7.31749169e-04 5.07224235e-04]\n",
            " [2.96053535e-04 4.10636480e-04 3.49345864e-05 2.85857037e-04\n",
            "  1.14557464e-02 1.63176272e-03 9.33565199e-01 5.12070991e-02\n",
            "  2.85257353e-04 8.27417069e-04]\n",
            " [1.75199912e-05 4.20728922e-02 9.83210313e-09 2.06586206e-03\n",
            "  1.60463276e-06 8.95823915e-10 1.35733953e-05 6.28932685e-06\n",
            "  3.20531967e-07 9.55821872e-01]\n",
            " [1.73427266e-04 3.95679126e-06 1.36145845e-03 4.22117097e-04\n",
            "  4.43937600e-01 1.14008039e-01 4.14915755e-03 4.33085740e-01\n",
            "  2.94775291e-05 2.82893633e-03]\n",
            " [7.61194387e-03 5.11173606e-01 8.01153365e-04 3.45867962e-01\n",
            "  4.25205595e-04 1.29846274e-04 7.59181508e-04 1.23938045e-03\n",
            "  2.42044241e-03 1.29571289e-01]\n",
            " [4.01445403e-04 5.25589421e-05 8.76869191e-04 7.38070870e-04\n",
            "  2.18380153e-01 6.28347933e-01 2.77708881e-02 1.22217402e-01\n",
            "  9.93370893e-04 2.21233946e-04]\n",
            " [1.34105349e-07 2.42945105e-01 1.71271149e-05 1.82323711e-04\n",
            "  5.80191504e-08 1.24899725e-05 8.50155502e-08 2.08327081e-04\n",
            "  7.47571051e-01 9.06329416e-03]\n",
            " [3.94755305e-04 2.77224928e-04 4.90164326e-04 1.54036316e-04\n",
            "  4.65966761e-03 2.53233506e-04 9.90615368e-01 2.00403994e-03\n",
            "  4.34681206e-05 1.10807992e-03]\n",
            " [2.54792809e-07 2.25869305e-02 1.66494829e-05 1.29533510e-04\n",
            "  1.03812067e-06 6.08485550e-07 3.18975708e-06 4.68686703e-05\n",
            "  4.89181979e-03 9.72323060e-01]\n",
            " [4.12219088e-05 8.85150075e-01 1.56866518e-05 5.31757763e-03\n",
            "  2.73199498e-06 8.55088147e-05 9.41284725e-06 8.05967080e-04\n",
            "  9.62753445e-02 1.22965118e-02]\n",
            " [9.96327937e-01 1.16871306e-04 5.20638132e-04 1.80678544e-04\n",
            "  3.58360063e-04 3.66448489e-07 2.90845637e-04 2.19572079e-03\n",
            "  6.69402482e-07 8.01077022e-06]\n",
            " [9.95423257e-01 1.73143912e-04 9.30583978e-04 3.32870433e-04\n",
            "  6.80590922e-04 7.43229521e-07 5.63917158e-04 1.87312940e-03\n",
            "  1.10153451e-06 2.07545436e-05]\n",
            " [5.41417859e-04 2.01306102e-06 9.99402404e-01 8.57559280e-06\n",
            "  2.87172134e-06 1.97092334e-08 6.46669605e-07 1.54537120e-05\n",
            "  6.66852657e-06 1.98323087e-05]\n",
            " [1.20133220e-03 3.63405608e-03 9.02355276e-03 1.66621637e-02\n",
            "  3.49747501e-02 7.02202976e-01 1.64109424e-01 4.40771915e-02\n",
            "  1.41649153e-02 9.94967204e-03]\n",
            " [5.71139622e-04 9.65415478e-01 4.95407803e-05 8.58549774e-03\n",
            "  1.34580943e-04 4.06245599e-05 8.03902745e-04 5.55606093e-04\n",
            "  8.62963218e-03 1.52139366e-02]\n",
            " [9.86560345e-01 4.83036228e-03 6.24351483e-03 6.18057325e-04\n",
            "  8.33175072e-05 7.49651647e-08 9.17476893e-04 7.28457875e-04\n",
            "  7.72383737e-06 1.07770848e-05]\n",
            " [1.96741559e-04 1.32086527e-04 1.31236610e-03 2.23751902e-03\n",
            "  4.21945639e-02 9.04244661e-01 2.34143175e-02 2.47142017e-02\n",
            "  9.67239379e-04 5.86375594e-04]\n",
            " [9.98146772e-01 5.28164346e-05 5.58032829e-04 8.97938444e-05\n",
            "  2.37018787e-04 6.41910347e-08 5.93081822e-05 8.54552316e-04\n",
            "  4.29299945e-07 1.21348285e-06]\n",
            " [4.62873955e-04 1.65622085e-04 5.79490094e-04 1.22001232e-03\n",
            "  1.85153872e-01 5.73298991e-01 2.95591094e-02 2.06438527e-01\n",
            "  2.64252862e-03 4.79110371e-04]\n",
            " [8.68508141e-05 1.48794716e-04 4.46982704e-05 3.39865772e-04\n",
            "  2.55986750e-02 1.16197281e-02 2.55168043e-02 9.34713840e-01\n",
            "  2.02625190e-04 1.72817043e-03]\n",
            " [1.64154437e-06 4.33764654e-07 9.99996901e-01 2.16805169e-08\n",
            "  8.92994052e-08 1.26138183e-10 4.33388969e-08 1.43124723e-07\n",
            "  6.24862366e-07 7.56323288e-08]]\n",
            "1/1 [==============================] - 1s 834ms/step - loss: 0.7180 - accuracy: 0.8000\n",
            "Test Loss: 0.7179813385009766\n",
            "Test Accuracy: 0.800000011920929\n"
          ]
        }
      ],
      "source": [
        "\n",
        "test_predictions = saved_model.predict(test_generator)\n",
        "# print(test_predictions)\n",
        "\n",
        "# Evaluate the model\n",
        "test_loss, test_accuracy = saved_model.evaluate(test_generator)\n",
        "print(\"Test Loss:\", test_loss)\n",
        "print(\"Test Accuracy:\", test_accuracy)\n"
      ]
    },
    {
      "cell_type": "code",
      "execution_count": null,
      "metadata": {
        "colab": {
          "base_uri": "https://localhost:8080/"
        },
        "id": "kv4MN7QusaRv",
        "outputId": "4c86ed1e-b7a2-40b8-e56b-e42fe71a38ff"
      },
      "outputs": [
        {
          "name": "stdout",
          "output_type": "stream",
          "text": [
            "[0 1 4 1 0 0 4 9 4 5 6 9 4 1 5 8 6 9 1 0 0 2 5 1 0 5 0 5 7 2]\n"
          ]
        }
      ],
      "source": [
        "answer = np.argmax(test_predictions, axis=1) # , axis=1\n",
        "print(answer)\n",
        "\n",
        "y_true = test_generator.classes"
      ]
    },
    {
      "cell_type": "code",
      "execution_count": null,
      "metadata": {
        "colab": {
          "base_uri": "https://localhost:8080/",
          "height": 1000
        },
        "id": "Bn27GhtNrxqF",
        "outputId": "6cd31ad6-d21b-4f47-8e58-04f8137a37eb"
      },
      "outputs": [
        {
          "name": "stderr",
          "output_type": "stream",
          "text": [
            "/usr/local/lib/python3.10/dist-packages/sklearn/metrics/_classification.py:1344: UndefinedMetricWarning: Precision and F-score are ill-defined and being set to 0.0 in labels with no predicted samples. Use `zero_division` parameter to control this behavior.\n",
            "  _warn_prf(average, modifier, msg_start, len(result))\n",
            "/usr/local/lib/python3.10/dist-packages/sklearn/metrics/_classification.py:1344: UndefinedMetricWarning: Precision and F-score are ill-defined and being set to 0.0 in labels with no predicted samples. Use `zero_division` parameter to control this behavior.\n",
            "  _warn_prf(average, modifier, msg_start, len(result))\n",
            "/usr/local/lib/python3.10/dist-packages/sklearn/metrics/_classification.py:1344: UndefinedMetricWarning: Precision and F-score are ill-defined and being set to 0.0 in labels with no predicted samples. Use `zero_division` parameter to control this behavior.\n",
            "  _warn_prf(average, modifier, msg_start, len(result))\n"
          ]
        },
        {
          "name": "stdout",
          "output_type": "stream",
          "text": [
            "              precision    recall  f1-score   support\n",
            "\n",
            "           0       0.29      0.29      0.29         7\n",
            "           1       0.00      0.00      0.00         2\n",
            "           2       0.00      0.00      0.00         2\n",
            "           3       0.00      0.00      0.00         3\n",
            "           4       0.00      0.00      0.00         1\n",
            "           5       0.40      0.40      0.40         5\n",
            "           6       0.50      0.25      0.33         4\n",
            "           7       0.00      0.00      0.00         2\n",
            "           8       0.00      0.00      0.00         1\n",
            "           9       0.33      0.33      0.33         3\n",
            "\n",
            "    accuracy                           0.20        30\n",
            "   macro avg       0.15      0.13      0.14        30\n",
            "weighted avg       0.23      0.20      0.21        30\n",
            "\n",
            "******************\n"
          ]
        },
        {
          "data": {
            "image/png": "[encoded data removed]",
            "text/plain": [
              "<Figure size 700x600 with 2 Axes>"
            ]
          },
          "metadata": {},
          "output_type": "display_data"
        }
      ],
      "source": [
        "from sklearn.metrics import confusion_matrix, classification_report\n",
        "conf_mat = confusion_matrix(y_true, answer)\n",
        "# print(conf_mat)\n",
        "clas_report = classification_report(y_true, answer)\n",
        "print(clas_report)\n",
        "\n",
        "print('******************')\n",
        "\n",
        "import itertools\n",
        "def plot_confusion_matrix(cm, classes,\n",
        "                          normalize=False,\n",
        "                          title='Confusion matrix',\n",
        "                          cmap=plt.cm.Reds):\n",
        "    \"\"\"\n",
        "    This function prints and plots the confusion matrix.\n",
        "    Normalization can be applied by setting `normalize=True`.\n",
        "    \"\"\"\n",
        "    plt.imshow(cm, interpolation='nearest', cmap=cmap)\n",
        "    plt.title(title)\n",
        "    plt.colorbar()\n",
        "    tick_marks = np.arange(len(classes))\n",
        "    plt.xticks(tick_marks, classes, rotation=45)\n",
        "    plt.yticks(tick_marks, classes)\n",
        "\n",
        "    if normalize:\n",
        "        cm = cm.astype('float') / cm.sum(axis=1)[:, np.newaxis]\n",
        "        cm = cm.round(2)\n",
        "        #print(\"Normalized confusion matrix\")\n",
        "    else:\n",
        "        cm=cm\n",
        "        #print('Confusion matrix, without normalization')\n",
        "\n",
        "    #print(cm)\n",
        "\n",
        "    thresh = cm.max() / 2.\n",
        "    for i, j in itertools.product(range(cm.shape[0]), range(cm.shape[1])):\n",
        "        plt.text(j, i, cm[i, j],\n",
        "                 horizontalalignment=\"center\",\n",
        "                 color=\"white\" if cm[i, j] > thresh else \"black\")\n",
        "\n",
        "    plt.tight_layout()\n",
        "    plt.ylabel('True label')\n",
        "    plt.xlabel('Predicted label')\n",
        "\n",
        "np.set_printoptions(precision=2)\n",
        "classes = test_generator.class_indices\n",
        "\n",
        "fig1 = plt.figure(figsize=(7,6))\n",
        "plot_confusion_matrix(conf_mat, classes=classes, title='Confusion matrix, without normalization')\n",
        "plt.show()"
      ]
    },
    {
      "cell_type": "code",
      "execution_count": null,
      "metadata": {
        "colab": {
          "base_uri": "https://localhost:8080/"
        },
        "id": "-KesgV8wuJ8m",
        "outputId": "08ed32e9-02b6-4565-aace-66d9fdd6cb5d"
      },
      "outputs": [
        {
          "name": "stdout",
          "output_type": "stream",
          "text": [
            "['Alexander', 'Ava', 'Benjamin', 'Emily', 'Ethan', 'James', 'Mia', 'Olivia', 'Sophia', 'William']\n"
          ]
        }
      ],
      "source": [
        "students_list = list(test_generator.class_indices)\n",
        "print(students_list)"
      ]
    },
    {
      "cell_type": "code",
      "execution_count": null,
      "metadata": {
        "id": "Xe7YDCA4ALQ2"
      },
      "outputs": [],
      "source": [
        "import numpy as np"
      ]
    },
    {
      "cell_type": "code",
      "execution_count": null,
      "metadata": {
        "colab": {
          "base_uri": "https://localhost:8080/"
        },
        "id": "aMxbUK6jwONh",
        "outputId": "47b646c1-90dd-4bc2-9ae5-ee4039736f47"
      },
      "outputs": [
        {
          "data": {
            "text/plain": [
              "<function list.index(value, start=0, stop=9223372036854775807, /)>"
            ]
          },
          "execution_count": 5,
          "metadata": {},
          "output_type": "execute_result"
        }
      ],
      "source": [
        "# Test with given image\n",
        "student_list = ['Alexander', 'Ava', 'Benjamin', 'Emily', 'Ethan', 'James', 'Mia', 'Olivia', 'Sophia', 'William']\n",
        "labels_num = student_list.index\n",
        "\n",
        "print(np.numpy_function)"
      ]
    },
    {
      "cell_type": "markdown",
      "source": [
        "WebCamera based attendance"
      ],
      "metadata": {
        "id": "PwjCkQyKfoni"
      }
    },
    {
      "cell_type": "code",
      "execution_count": null,
      "metadata": {
        "colab": {
          "background_save": true,
          "base_uri": "https://localhost:8080/",
          "height": 510
        },
        "id": "2ZWrGONNwOok",
        "outputId": "f32bbf21-8a46-4ac4-b0a5-135d445c5939"
      },
      "outputs": [
        {
          "data": {
            "application/javascript": [
              "\n",
              "        var video;\n",
              "        var div = null;\n",
              "        var stream;\n",
              "        var captureCanvas;\n",
              "        var imgElement;\n",
              "        var labelElement;\n",
              "\n",
              "        var pendingResolve = null;\n",
              "        var shutdown = false;\n",
              "\n",
              "        function removeDom() {\n",
              "           stream.getVideoTracks()[0].stop();\n",
              "           video.remove();\n",
              "           div.remove();\n",
              "           video = null;\n",
              "           div = null;\n",
              "           stream = null;\n",
              "           imgElement = null;\n",
              "           captureCanvas = null;\n",
              "           labelElement = null;\n",
              "        }\n",
              "\n",
              "        function onAnimationFrame() {\n",
              "            if (!shutdown) {\n",
              "                window.requestAnimationFrame(onAnimationFrame);\n",
              "            }\n",
              "            if (pendingResolve) {\n",
              "                var result = \"\";\n",
              "                if (!shutdown) {\n",
              "                    captureCanvas.getContext('2d').drawImage(video, 0, 0, 640, 480);\n",
              "                    result = captureCanvas.toDataURL('image/jpeg', 0.8);\n",
              "                }\n",
              "                var lp = pendingResolve;\n",
              "                pendingResolve = null;\n",
              "                lp(result);\n",
              "            }\n",
              "        }\n",
              "\n",
              "        async function createDom() {\n",
              "            if (div !== null) {\n",
              "                return stream;\n",
              "            }\n",
              "\n",
              "            div = document.createElement('div');\n",
              "            div.style.border = '2px solid black';\n",
              "            div.style.padding = '3px';\n",
              "            div.style.width = '100%';\n",
              "            div.style.maxWidth = '600px';\n",
              "            document.body.appendChild(div);\n",
              "\n",
              "            const modelOut = document.createElement('div');\n",
              "            modelOut.innerHTML = \"<span>Status:</span>\";\n",
              "            labelElement = document.createElement('span');\n",
              "            labelElement.innerText = 'No data';\n",
              "            labelElement.style.fontWeight = 'bold';\n",
              "            modelOut.appendChild(labelElement);\n",
              "            div.appendChild(modelOut);\n",
              "\n",
              "            video = document.createElement('video');\n",
              "            video.style.display = 'block';\n",
              "            video.width = div.clientWidth - 6;\n",
              "            video.setAttribute('playsinline', '');\n",
              "            video.onclick = () => { shutdown = true; };\n",
              "            stream = await navigator.mediaDevices.getUserMedia({ video: { facingMode: \"environment\" }});\n",
              "            div.appendChild(video);\n",
              "\n",
              "            imgElement = document.createElement('img');\n",
              "            imgElement.style.position = 'absolute';\n",
              "            imgElement.style.zIndex = 1;\n",
              "            imgElement.onclick = () => { shutdown = true; };\n",
              "            div.appendChild(imgElement);\n",
              "\n",
              "            const instruction = document.createElement('div');\n",
              "            instruction.innerHTML = '<span style=\"color: red; font-weight: bold;\">When finished, click here or on the video to stop this demo</span>';\n",
              "            div.appendChild(instruction);\n",
              "            instruction.onclick = () => { shutdown = true; };\n",
              "\n",
              "            video.srcObject = stream;\n",
              "            await video.play();\n",
              "\n",
              "            captureCanvas = document.createElement('canvas');\n",
              "            captureCanvas.width = 640;\n",
              "            captureCanvas.height = 480;\n",
              "            window.requestAnimationFrame(onAnimationFrame);\n",
              "\n",
              "            return stream;\n",
              "        }\n",
              "\n",
              "        async function stream_frame(label, imgData) {\n",
              "            if (shutdown) {\n",
              "                removeDom();\n",
              "                shutdown = false;\n",
              "                return '';\n",
              "            }\n",
              "\n",
              "            var preCreate = Date.now();\n",
              "            stream = await createDom();\n",
              "\n",
              "            var preShow = Date.now();\n",
              "            if (label !== '') {\n",
              "                labelElement.innerHTML = label;\n",
              "            }\n",
              "\n",
              "            if (imgData !== '') {\n",
              "                var videoRect = video.getClientRects()[0];\n",
              "                imgElement.style.top = videoRect.top + 'px';\n",
              "                imgElement.style.left = videoRect.left + 'px';\n",
              "                imgElement.style.width = videoRect.width + 'px';\n",
              "                imgElement.style.height = videoRect.height + 'px';\n",
              "                imgElement.src = imgData;\n",
              "            }\n",
              "\n",
              "            var preCapture = Date.now();\n",
              "            var result = await new Promise(function(resolve, reject) {\n",
              "                pendingResolve = resolve;\n",
              "            });\n",
              "            shutdown = false;\n",
              "\n",
              "            return {\n",
              "                'create': preShow - preCreate,\n",
              "                'show': preCapture - preShow,\n",
              "                'capture': Date.now() - preCapture,\n",
              "                'img': result\n",
              "            };\n",
              "        }\n",
              "    "
            ],
            "text/plain": [
              "<IPython.core.display.Javascript object>"
            ]
          },
          "metadata": {},
          "output_type": "display_data"
        }
      ],
      "source": []
    },
    {
      "cell_type": "code",
      "execution_count": null,
      "metadata": {
        "id": "b7xgTPVTutg9"
      },
      "outputs": [],
      "source": [
        "# Webcam"
      ]
    },
    {
      "cell_type": "code",
      "execution_count": null,
      "metadata": {
        "id": "NHUGptrFxOEV"
      },
      "outputs": [],
      "source": [
        "# import dependencies\n",
        "from IPython.display import display, Javascript, Image\n",
        "from google.colab.output import eval_js\n",
        "from base64 import b64decode, b64encode\n",
        "import cv2\n",
        "import numpy as np\n",
        "import PIL\n",
        "import io\n",
        "import html\n",
        "import time"
      ]
    },
    {
      "cell_type": "code",
      "execution_count": null,
      "metadata": {
        "id": "kdxO_jNJxOxV"
      },
      "outputs": [],
      "source": [
        "# function to convert the JavaScript object into an OpenCV image\n",
        "def js_to_image(js_reply):\n",
        "  \"\"\"\n",
        "  Params:\n",
        "          js_reply: JavaScript object containing image from webcam\n",
        "  Returns:\n",
        "          img: OpenCV BGR image\n",
        "  \"\"\"\n",
        "  # decode base64 image\n",
        "  image_bytes = b64decode(js_reply.split(',')[1])\n",
        "  # convert bytes to numpy array\n",
        "  jpg_as_np = np.frombuffer(image_bytes, dtype=np.uint8)\n",
        "  # decode numpy array into OpenCV BGR image\n",
        "  img = cv2.imdecode(jpg_as_np, flags=1)\n",
        "\n",
        "  return img\n",
        "\n",
        "# function to convert OpenCV Rectangle bounding box image into base64 byte string to be overlayed on video stream\n",
        "def bbox_to_bytes(bbox_array):\n",
        "  \"\"\"\n",
        "  Params:\n",
        "          bbox_array: Numpy array (pixels) containing rectangle to overlay on video stream.\n",
        "  Returns:\n",
        "        bytes: Base64 image byte string\n",
        "  \"\"\"\n",
        "  # convert array into PIL image\n",
        "  bbox_PIL = PIL.Image.fromarray(bbox_array, 'RGBA')\n",
        "  iobuf = io.BytesIO()\n",
        "  # format bbox into png for return\n",
        "  bbox_PIL.save(iobuf, format='png')\n",
        "  # format return string\n",
        "  bbox_bytes = 'data:image/png;base64,{}'.format((str(b64encode(iobuf.getvalue()), 'utf-8')))\n",
        "\n",
        "  return bbox_bytes"
      ]
    },
    {
      "cell_type": "code",
      "execution_count": null,
      "metadata": {
        "id": "WprQT_IMxnyV"
      },
      "outputs": [],
      "source": [
        "# initialize the Haar Cascade face detection model\n",
        "face_cascade = cv2.CascadeClassifier(cv2.samples.findFile(cv2.data.haarcascades + 'haarcascade_frontalface_default.xml'))"
      ]
    },
    {
      "cell_type": "code",
      "execution_count": null,
      "metadata": {
        "id": "RW6-G3WXxuB6"
      },
      "outputs": [],
      "source": [
        "def take_photo(filename='photo.jpg', quality=0.8):\n",
        "  js = Javascript('''\n",
        "    async function takePhoto(quality) {\n",
        "      const div = document.createElement('div');\n",
        "      const capture = document.createElement('button');\n",
        "      capture.textContent = 'Capture';\n",
        "      div.appendChild(capture);\n",
        "\n",
        "      const video = document.createElement('video');\n",
        "      video.style.display = 'block';\n",
        "      const stream = await navigator.mediaDevices.getUserMedia({video: true});\n",
        "\n",
        "      document.body.appendChild(div);\n",
        "      div.appendChild(video);\n",
        "      video.srcObject = stream;\n",
        "      await video.play();\n",
        "\n",
        "      // Resize the output to fit the video element.\n",
        "      google.colab.output.setIframeHeight(document.documentElement.scrollHeight, true);\n",
        "\n",
        "      // Wait for Capture to be clicked.\n",
        "      await new Promise((resolve) => capture.onclick = resolve);\n",
        "\n",
        "      const canvas = document.createElement('canvas');\n",
        "      canvas.width = video.videoWidth;\n",
        "      canvas.height = video.videoHeight;\n",
        "      canvas.getContext('2d').drawImage(video, 0, 0);\n",
        "      stream.getVideoTracks()[0].stop();\n",
        "      div.remove();\n",
        "      return canvas.toDataURL('image/jpeg', quality);\n",
        "    }\n",
        "    ''')\n",
        "  display(js)\n",
        "\n",
        "  # get photo data\n",
        "  data = eval_js('takePhoto({})'.format(quality))\n",
        "  # get OpenCV format image\n",
        "  img = js_to_image(data)\n",
        "  # grayscale img\n",
        "  gray = cv2.cvtColor(img, cv2.COLOR_RGB2GRAY)\n",
        "  print(gray.shape)\n",
        "  # get face bounding box coordinates using Haar Cascade\n",
        "  faces = face_cascade.detectMultiScale(gray)\n",
        "  # draw face bounding box on image\n",
        "  for (x,y,w,h) in faces:\n",
        "      img = cv2.rectangle(img,(x,y),(x+w,y+h),(255,0,0),2)\n",
        "  # save image\n",
        "  cv2.imwrite(filename, img)\n",
        "\n",
        "  return filename"
      ]
    },
    {
      "cell_type": "code",
      "source": [
        "%cd drive/MyDrive/Colab Notebooks/Attendance_System/Rupendra\n",
        "%ls"
      ],
      "metadata": {
        "colab": {
          "base_uri": "https://localhost:8080/"
        },
        "id": "pQ7iIT3AzhVe",
        "outputId": "b48fd25e-2c59-4a19-cc08-3a1a52731a82"
      },
      "execution_count": null,
      "outputs": [
        {
          "output_type": "stream",
          "name": "stdout",
          "text": [
            "/content/drive/MyDrive/Colab Notebooks/Attendance_System/Rupendra\n",
            " 2023_June.xlsx   person1_best_model.h5   Person_1.ipynb\n",
            " \u001b[0m\u001b[01;34mDataset\u001b[0m/        'Person 1.gdoc'          photo.jpg\n"
          ]
        }
      ]
    },
    {
      "cell_type": "code",
      "execution_count": null,
      "metadata": {
        "id": "5-qwLnK2yS4n"
      },
      "outputs": [],
      "source": [
        "# prediction from saved file\n",
        "import os\n",
        "import numpy as np\n",
        "import tensorflow as tf\n",
        "from tensorflow.keras.preprocessing.image import load_img, img_to_array\n",
        "from tensorflow.keras.models import load_model\n",
        "\n",
        "\n",
        "class ImageClassifier:\n",
        "    def __init__(self, img_width, img_height):\n",
        "        self.img_width = img_width\n",
        "        self.img_height = img_height\n",
        "        # self.batch_size = 32\n",
        "        self.model = None\n",
        "        self.checkpoint_path = 'person1_best_model.h5'\n",
        "\n",
        "    def load_saved_model(self):\n",
        "        self.model = load_model(self.checkpoint_path)\n",
        "\n",
        "    def preprocess_image(self, image_path):\n",
        "        image = load_img(image_path, target_size=(self.img_width, self.img_height))\n",
        "        image = img_to_array(image) / 255.0\n",
        "        image = np.expand_dims(image, axis=0)\n",
        "        return image\n",
        "\n",
        "    def predict_image(self, image_path):\n",
        "        if self.model is None:\n",
        "            print(\"Error: Model not loaded.\")\n",
        "            return\n",
        "\n",
        "        image = self.preprocess_image(image_path)\n",
        "        predictions = self.model.predict(image)\n",
        "        class_index = np.argmax(predictions[0])\n",
        "        return class_index\n",
        "\n"
      ]
    },
    {
      "cell_type": "code",
      "source": [
        "import datetime\n",
        "import pandas as pd\n",
        "\n",
        "def build_excel(year, month, day, time):\n",
        "  # Check if the file exists\n",
        "  excel_file = year+'_'+month+'.xlsx'  # file name\n",
        "  if not os.path.exists(excel_file):\n",
        "      student = ['Alexander', 'Ava', 'Benjamin', 'Emily', 'Ethan', 'James', 'Mia', 'Rupendra', 'Sophia', 'William']\n",
        "      rollNo = []\n",
        "      rollNo = [num+1 for num in range(len(student))]\n",
        "      print(rollNo)\n",
        "\n",
        "      df = pd.DataFrame(columns=['Roll No', 'Name'])\n",
        "      df['Roll No'] = rollNo\n",
        "      df['Name'] = student\n",
        "      df.to_excel(excel_file, index=False)\n",
        "      print(f\"Excel file '{excel_file}' created successfully.\")\n",
        "  else:\n",
        "      df = pd.read_excel(excel_file)\n",
        "      # Check if the current day column exists\n",
        "      if day not in df.columns:\n",
        "        # Add a new column with the current day\n",
        "        df[day] = day\n",
        "        df.to_excel(excel_file, index=False)\n",
        "        print(f\"New column '{day}' added to the Excel file.\")\n",
        "      else:\n",
        "        print(f\"Excel file '{excel_file}' already contains column '{day}'.\")\n",
        "\n",
        "      print(f\"Excel file '{excel_file}' already exists.\")\n",
        "\n",
        "  return excel_file\n",
        "\n"
      ],
      "metadata": {
        "id": "b9Fu6RwswNna"
      },
      "execution_count": null,
      "outputs": []
    },
    {
      "cell_type": "code",
      "execution_count": null,
      "metadata": {
        "id": "-pbLdyxhyV8Z"
      },
      "outputs": [],
      "source": [
        "# Do attendance\n",
        "\n",
        "def add_attendance_to_excel(rollno, name):\n",
        "    # Get the current UTC time\n",
        "    utc_time = datetime.datetime.utcnow()\n",
        "\n",
        "    # Calculate the time difference for Nepal (+5:45)\n",
        "    nepal_time_difference = datetime.timedelta(hours=5, minutes=45)\n",
        "\n",
        "    # Add the time difference to the current UTC time\n",
        "    nepal_time = utc_time + nepal_time_difference\n",
        "\n",
        "    # Get the current date and time\n",
        "    time = nepal_time.strftime(\"%H:%M:%S\")\n",
        "    year = nepal_time.strftime(\"%Y\")\n",
        "    month = nepal_time.strftime(\"%B\")\n",
        "    day = nepal_time.strftime(\"%d\")\n",
        "\n",
        "    file_name = build_excel(year, month, day, time)  # Add excel by calling build_excel function\n",
        "    print(file_name)\n",
        "\n",
        "    dataframe = pd.read_excel(file_name)\n",
        "    rollno_mask = (dataframe['Roll No'] == rollno)\n",
        "    if rollno_mask.any():\n",
        "        rollno_row = dataframe.loc[rollno_mask]\n",
        "        if pd.isnull(rollno_row[day].iloc[0]):\n",
        "            # Add recognized time to the specified column and row\n",
        "            dataframe.loc[rollno_mask, day] = time\n",
        "\n",
        "            # Save the modified DataFrame back to the Excel file\n",
        "            dataframe.to_excel(file_name, index=False)\n",
        "            print(\"Attendance for Roll No. {} and Name: {} added.\".format(rollno, name))\n",
        "        else:\n",
        "            print(\"Roll No. {} and Name: {} Attendance already registered.\".format(rollno, name))\n",
        "    else:\n",
        "        print(\"Roll No. {} not found in the Excel file.\".format(rollno))\n",
        "\n",
        "    return \"Attendance for Roll No. {} and Name: {} not added.\".format(rollno, name)\n"
      ]
    },
    {
      "cell_type": "code",
      "source": [
        "try:\n",
        "    filename = take_photo('photo.jpg')\n",
        "    print('Saved to {}'.format(filename))\n",
        "\n",
        "    img_width = img_height = 150\n",
        "\n",
        "    # Create ImageClassifier instance\n",
        "    classifier = ImageClassifier(img_width, img_height)\n",
        "\n",
        "    # Load the saved model\n",
        "    classifier.load_saved_model()\n",
        "\n",
        "    # Make a prediction using the saved model\n",
        "    prediction = classifier.predict_image(filename)\n",
        "\n",
        "    # Print the predicted class index\n",
        "    print(\"Predicted class index:\", prediction)\n",
        "    studentName = ['Alexander', 'Ava', 'Benjamin', 'Emily', 'Ethan', 'James', 'Mia', 'Rupendra', 'Sophia', 'William']\n",
        "    print(studentName[prediction], \"is present\")\n",
        "\n",
        "    # For model\n",
        "    name = studentName[prediction]  # Predicted student name\n",
        "    add_attendance_to_excel(prediction+1, name)   # Call add_attendance_to_excel to register attendance of person\n",
        "\n",
        "    # Show the image which was just taken.\n",
        "    display(Image(filename))\n",
        "\n",
        "except Exception as err:\n",
        "    # Errors will be thrown if the user does not have a webcam or if they do not\n",
        "    # grant the page permission to access it.\n",
        "    print(str(err))"
      ],
      "metadata": {
        "colab": {
          "base_uri": "https://localhost:8080/",
          "height": 653
        },
        "id": "gTleLlPSfRnA",
        "outputId": "590e4acb-89d1-48a0-fa12-0a924198bb53"
      },
      "execution_count": null,
      "outputs": [
        {
          "output_type": "display_data",
          "data": {
            "text/plain": [
              "<IPython.core.display.Javascript object>"
            ],
            "application/javascript": [
              "\n",
              "    async function takePhoto(quality) {\n",
              "      const div = document.createElement('div');\n",
              "      const capture = document.createElement('button');\n",
              "      capture.textContent = 'Capture';\n",
              "      div.appendChild(capture);\n",
              "\n",
              "      const video = document.createElement('video');\n",
              "      video.style.display = 'block';\n",
              "      const stream = await navigator.mediaDevices.getUserMedia({video: true});\n",
              "\n",
              "      document.body.appendChild(div);\n",
              "      div.appendChild(video);\n",
              "      video.srcObject = stream;\n",
              "      await video.play();\n",
              "\n",
              "      // Resize the output to fit the video element.\n",
              "      google.colab.output.setIframeHeight(document.documentElement.scrollHeight, true);\n",
              "\n",
              "      // Wait for Capture to be clicked.\n",
              "      await new Promise((resolve) => capture.onclick = resolve);\n",
              "\n",
              "      const canvas = document.createElement('canvas');\n",
              "      canvas.width = video.videoWidth;\n",
              "      canvas.height = video.videoHeight;\n",
              "      canvas.getContext('2d').drawImage(video, 0, 0);\n",
              "      stream.getVideoTracks()[0].stop();\n",
              "      div.remove();\n",
              "      return canvas.toDataURL('image/jpeg', quality);\n",
              "    }\n",
              "    "
            ]
          },
          "metadata": {}
        },
        {
          "output_type": "stream",
          "name": "stdout",
          "text": [
            "(480, 640)\n",
            "Saved to photo.jpg\n",
            "1/1 [==============================] - 0s 377ms/step\n",
            "Predicted class index: 2\n",
            "Benjamin is present\n",
            "New column '23' added to the Excel file.\n",
            "Excel file '2023_June.xlsx' already exists.\n",
            "2023_June.xlsx\n",
            "Roll No. 3 and Name: Benjamin Attendance already registered.\n"
          ]
        },
        {
          "output_type": "display_data",
          "data": {
            "image/jpeg": "[encoded data removed]",
            "text/plain": [
              "<IPython.core.display.Image object>"
            ]
          },
          "metadata": {}
        }
      ]
    },
    {
      "cell_type": "code",
      "source": [],
      "metadata": {
        "id": "hR5CJuup1Amw"
      },
      "execution_count": null,
      "outputs": []
    }
  ],
  "metadata": {
    "colab": {
      "provenance": []
    },
    "kernelspec": {
      "display_name": "Python 3",
      "name": "python3"
    },
    "language_info": {
      "name": "python"
    }
  },
  "nbformat": 4,
  "nbformat_minor": 0
}